{
  "nbformat": 4,
  "nbformat_minor": 0,
  "metadata": {
    "colab": {
      "name": "Moringa_Data_Science_Prep_W3_Independent_Project_2019_07_Newton_Muthii_Python_notebook.ipynb",
      "provenance": [],
      "authorship_tag": "ABX9TyNzzFHUbd4b1fIhZT+XX6/n",
      "include_colab_link": true
    },
    "kernelspec": {
      "name": "python3",
      "display_name": "Python 3"
    }
  },
  "cells": [
    {
      "cell_type": "markdown",
      "metadata": {
        "id": "view-in-github",
        "colab_type": "text"
      },
      "source": [
        "<a href=\"https://colab.research.google.com/github/Macharia-254/WEEK-3-IP/blob/main/Moringa_Data_Science_Prep_W3_Independent_Project_2019_07_Newton_Muthii_Python_notebook.ipynb\" target=\"_parent\"><img src=\"https://colab.research.google.com/assets/colab-badge.svg\" alt=\"Open In Colab\"/></a>"
      ]
    },
    {
      "cell_type": "code",
      "metadata": {
        "id": "58WvFKhJc-FZ"
      },
      "source": [
        "#importing pandas and numpy libraries\r\n",
        "#\r\n",
        "import pandas as pd\r\n",
        "\r\n",
        "import numpy as np"
      ],
      "execution_count": null,
      "outputs": []
    }
  ]
}