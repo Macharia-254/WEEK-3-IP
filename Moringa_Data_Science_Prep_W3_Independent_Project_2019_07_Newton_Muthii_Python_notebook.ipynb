{
  "nbformat": 4,
  "nbformat_minor": 0,
  "metadata": {
    "colab": {
      "name": "Moringa_Data_Science_Prep_W3_Independent_Project_2019_07_Newton_Muthii_Python_notebook.ipynb",
      "provenance": [],
      "authorship_tag": "ABX9TyMwx6rbWPk8QFknd0vMbUXW",
      "include_colab_link": true
    },
    "kernelspec": {
      "name": "python3",
      "display_name": "Python 3"
    }
  },
  "cells": [
    {
      "cell_type": "markdown",
      "metadata": {
        "id": "view-in-github",
        "colab_type": "text"
      },
      "source": [
        "<a href=\"https://colab.research.google.com/github/Macharia-254/WEEK-3-IP/blob/main/Moringa_Data_Science_Prep_W3_Independent_Project_2019_07_Newton_Muthii_Python_notebook.ipynb\" target=\"_parent\"><img src=\"https://colab.research.google.com/assets/colab-badge.svg\" alt=\"Open In Colab\"/></a>"
      ]
    },
    {
      "cell_type": "code",
      "metadata": {
        "id": "58WvFKhJc-FZ"
      },
      "source": [
        ""
      ],
      "execution_count": null,
      "outputs": []
    }
  ]
}